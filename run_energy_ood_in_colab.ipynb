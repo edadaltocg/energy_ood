{
  "nbformat": 4,
  "nbformat_minor": 0,
  "metadata": {
    "orig_nbformat": 2,
    "colab": {
      "name": "run_energy_ood_in_colab.ipynb",
      "provenance": [],
      "toc_visible": true
    },
    "kernelspec": {
      "name": "python3",
      "display_name": "Python 3"
    },
    "accelerator": "GPU"
  },
  "cells": [
    {
      "cell_type": "code",
      "metadata": {
        "colab": {
          "base_uri": "https://localhost:8080/",
          "height": 53
        },
        "id": "yFTpO37tqWeX",
        "outputId": "e31cd213-d396-4a91-a347-55a1df6530bf"
      },
      "source": [
        "__dir__ = \"energy_ood\"\n",
        "__file__ = \"run_energy_ood_in_colab.ipynb\"\n",
        "__url__ = \"https://colab.research.google.com/github/edadaltocg/out-of-distribution-detection/blob/master/src/{}/{}\".format(__dir__, __file__)\n",
        "__url__"
      ],
      "execution_count": 32,
      "outputs": [
        {
          "output_type": "execute_result",
          "data": {
            "application/vnd.google.colaboratory.intrinsic+json": {
              "type": "string"
            },
            "text/plain": [
              "'https://colab.research.google.com/github/edadaltocg/out-of-distribution-detection/blob/master/src/energy_ood/run_energy_ood_in_colab.ipynb'"
            ]
          },
          "metadata": {
            "tags": []
          },
          "execution_count": 32
        }
      ]
    },
    {
      "cell_type": "markdown",
      "metadata": {
        "id": "nWAkqu2psUml"
      },
      "source": [
        "# GPU device"
      ]
    },
    {
      "cell_type": "code",
      "metadata": {
        "id": "9wlR0jjJsV5E",
        "outputId": "5c4c69c1-dd4d-4cfe-e491-cb9c08b0aa40",
        "colab": {
          "base_uri": "https://localhost:8080/"
        }
      },
      "source": [
        "%%bash\n",
        "/usr/local/cuda/bin/nvcc --version\n",
        "nvidia-smi -L"
      ],
      "execution_count": 33,
      "outputs": [
        {
          "output_type": "stream",
          "text": [
            "nvcc: NVIDIA (R) Cuda compiler driver\n",
            "Copyright (c) 2005-2019 NVIDIA Corporation\n",
            "Built on Sun_Jul_28_19:07:16_PDT_2019\n",
            "Cuda compilation tools, release 10.1, V10.1.243\n",
            "GPU 0: Tesla T4 (UUID: GPU-9d3e5877-043d-a786-5f91-99ea5a38c383)\n"
          ],
          "name": "stdout"
        }
      ]
    },
    {
      "cell_type": "markdown",
      "metadata": {
        "id": "Tylv9sOmqX6G"
      },
      "source": [
        "# Clone repo"
      ]
    },
    {
      "cell_type": "code",
      "metadata": {
        "colab": {
          "base_uri": "https://localhost:8080/"
        },
        "id": "9BwRFyduqCFT",
        "outputId": "8a57d529-0df0-4570-81a4-6d52251d0447"
      },
      "source": [
        "%%bash\n",
        "rm -r energy_ood/\n",
        "git clone http://github.com/edadaltocg/energy_ood"
      ],
      "execution_count": 34,
      "outputs": [
        {
          "output_type": "stream",
          "text": [
            "fatal: destination path 'energy_ood' already exists and is not an empty directory.\n"
          ],
          "name": "stderr"
        }
      ]
    },
    {
      "cell_type": "markdown",
      "metadata": {
        "id": "0d9qep3NqdCO"
      },
      "source": [
        "# Download datasets"
      ]
    },
    {
      "cell_type": "code",
      "metadata": {
        "colab": {
          "base_uri": "https://localhost:8080/"
        },
        "id": "uPkydTytqegZ",
        "outputId": "c8923c8d-19a6-451b-b20a-2f50b8ee7838"
      },
      "source": [
        "%%time\n",
        "%%capture\n",
        "%%bash\n",
        "cd energy_ood/data/\n",
        "# Describable Textures Dataset (DTD)\n",
        "wget https://www.robots.ox.ac.uk/~vgg/data/dtd/download/dtd-r1.0.1.tar.gz\n",
        "tar -xvzf dtd-r1.0.1.tar.gz\n",
        "# Chars74K\n",
        "wget http://www.ee.surrey.ac.uk/CVSSP/demos/chars74k/EnglishImg.tgz\n",
        "tar -xvzf EnglishImg.tgz\n",
        "# LSUN-C\n",
        "wget https://www.dropbox.com/s/fhtsw1m3qxlwj6h/LSUN.tar.gz\n",
        "tar -xvzf LSUN.tar.gz\n",
        "# LSUN-R\n",
        "wget https://www.dropbox.com/s/moqh2wh8696c3yl/LSUN_resize.tar.gz\n",
        "tar -xvzf LSUN_resize.tar.gz\n",
        "#iSUN\n",
        "wget https://www.dropbox.com/s/ssz7qxfqae0cca5/iSUN.tar.gz\n",
        "tar -xvzf iSUN.tar.gz"
      ],
      "execution_count": 35,
      "outputs": [
        {
          "output_type": "stream",
          "text": [
            "CPU times: user 2.65 s, sys: 1.47 s, total: 4.12 s\n",
            "Wall time: 57.6 s\n"
          ],
          "name": "stdout"
        }
      ]
    },
    {
      "cell_type": "markdown",
      "metadata": {
        "id": "lWJh06Bpqr-h"
      },
      "source": [
        "# Run tests in pre-trained models"
      ]
    },
    {
      "cell_type": "code",
      "metadata": {
        "colab": {
          "base_uri": "https://localhost:8080/"
        },
        "id": "82NL9vAxqCFT",
        "outputId": "c7739284-05c5-4734-9381-7d10f2708104"
      },
      "source": [
        "%%time\n",
        "%%bash\n",
        "cd energy_ood/CIFAR\n",
        "# run energy score testing for cifar10 WRN\n",
        "bash run.sh energy 0\n",
        "\n",
        "# run energy score testing for cifar100 WRN\n",
        "bash run.sh energy 1"
      ],
      "execution_count": 36,
      "outputs": [
        {
          "output_type": "stream",
          "text": [
            "-----------cifar10_wrn_pretrained energy score-----------------\n",
            "Namespace(T=1.0, droprate=0.3, layers=40, load='./snapshots', method_name='cifar10_wrn_pretrained', ngpu=1, noise=0, num_to_avg=10, out_as_pos=False, prefetch=2, score='energy', test_bs=200, use_xent=False, validate=False, widen_factor=2)\n",
            "Files already downloaded and verified\n",
            "Model restored! Epoch: 99\n",
            "Error Rate 5.16\n",
            "\n",
            "Using CIFAR-10 as typical data\n",
            "\n",
            "\n",
            "Error Detection\n",
            "\t\t\tcifar10_wrn_pretrained\n",
            "FPR95:\t\t\t25.17\n",
            "AUROC:\t\t\t93.36\n",
            "AUPR:\t\t\t45.73\n",
            "\n",
            "\n",
            "Texture Detection\n",
            "[-14.407909 -16.04899  -12.20411 ] [ -4.138833  -12.9692545 -15.019464 ]\n",
            "\t\t\t\tcifar10_wrn_pretrained\n",
            "  FPR95 AUROC AUPR\n",
            "& 52.70 & 85.33 & 95.45\n",
            "& 0.81 & 0.24 & 0.20\n",
            "Using downloaded and verified file: ../data/test_32x32.mat\n",
            "\n",
            "\n",
            "SVHN Detection\n",
            "[-14.407909 -16.04899  -12.20411 ] [ -6.616629  -11.245982   -5.3592443]\n",
            "\t\t\t\tcifar10_wrn_pretrained\n",
            "  FPR95 AUROC AUPR\n",
            "& 35.21 & 91.18 & 97.74\n",
            "& 1.25 & 0.27 & 0.10\n",
            "||||||||done with cifar10_wrn_pretrained energy score above |||||||||||||||||||\n",
            "-----------cifar100_wrn_pretrained energy score-----------------\n",
            "Namespace(T=1.0, droprate=0.3, layers=40, load='./snapshots', method_name='cifar100_wrn_pretrained', ngpu=1, noise=0, num_to_avg=10, out_as_pos=False, prefetch=2, score='energy', test_bs=200, use_xent=False, validate=False, widen_factor=2)\n",
            "Files already downloaded and verified\n",
            "Model restored! Epoch: 99\n",
            "Error Rate 24.04\n",
            "\n",
            "Using CIFAR-100 as typical data\n",
            "\n",
            "\n",
            "Error Detection\n",
            "\t\t\tcifar100_wrn_pretrained\n",
            "FPR95:\t\t\t43.54\n",
            "AUROC:\t\t\t86.80\n",
            "AUPR:\t\t\t64.94\n",
            "\n",
            "\n",
            "Texture Detection\n",
            "[ -9.524346 -12.782997 -13.306398] [-9.191003  -9.131309  -7.7551336]\n",
            "\t\t\t\tcifar100_wrn_pretrained\n",
            "  FPR95 AUROC AUPR\n",
            "& 79.81 & 76.10 & 93.56\n",
            "& 0.84 & 0.34 & 0.13\n",
            "Using downloaded and verified file: ../data/test_32x32.mat\n",
            "\n",
            "\n",
            "SVHN Detection\n",
            "[ -9.524346 -12.782997 -13.306398] [-16.597416 -17.277206 -15.960419]\n",
            "\t\t\t\tcifar100_wrn_pretrained\n",
            "  FPR95 AUROC AUPR\n",
            "& 85.66 & 73.74 & 93.56\n",
            "& 0.62 & 0.40 & 0.13\n",
            "||||||||done with cifar100_wrn_pretrained energy score above |||||||||||||||||||\n"
          ],
          "name": "stdout"
        },
        {
          "output_type": "stream",
          "text": [
            "Traceback (most recent call last):\n",
            "  File \"test.py\", line 376, in <module>\n",
            "    [trn.Resize(32), trn.CenterCrop(32), trn.ToTensor(), trn.Normalize(mean, std)]\n",
            "  File \"/usr/local/lib/python3.6/dist-packages/torchvision/datasets/folder.py\", line 229, in __init__\n",
            "    is_valid_file=is_valid_file)\n",
            "  File \"/usr/local/lib/python3.6/dist-packages/torchvision/datasets/folder.py\", line 108, in __init__\n",
            "    classes, class_to_idx = self._find_classes(self.root)\n",
            "  File \"/usr/local/lib/python3.6/dist-packages/torchvision/datasets/folder.py\", line 137, in _find_classes\n",
            "    classes = [d.name for d in os.scandir(dir) if d.is_dir()]\n",
            "FileNotFoundError: [Errno 2] No such file or directory: '../data/test_256/'\n",
            "Traceback (most recent call last):\n",
            "  File \"test.py\", line 376, in <module>\n",
            "    [trn.Resize(32), trn.CenterCrop(32), trn.ToTensor(), trn.Normalize(mean, std)]\n",
            "  File \"/usr/local/lib/python3.6/dist-packages/torchvision/datasets/folder.py\", line 229, in __init__\n",
            "    is_valid_file=is_valid_file)\n",
            "  File \"/usr/local/lib/python3.6/dist-packages/torchvision/datasets/folder.py\", line 108, in __init__\n",
            "    classes, class_to_idx = self._find_classes(self.root)\n",
            "  File \"/usr/local/lib/python3.6/dist-packages/torchvision/datasets/folder.py\", line 137, in _find_classes\n",
            "    classes = [d.name for d in os.scandir(dir) if d.is_dir()]\n",
            "FileNotFoundError: [Errno 2] No such file or directory: '../data/test_256/'\n"
          ],
          "name": "stderr"
        },
        {
          "output_type": "stream",
          "text": [
            "CPU times: user 11.7 ms, sys: 7.3 ms, total: 19 ms\n",
            "Wall time: 5min 45s\n"
          ],
          "name": "stdout"
        }
      ]
    },
    {
      "cell_type": "markdown",
      "metadata": {
        "id": "OXcPpsD0qt6M"
      },
      "source": [
        "## Outputs"
      ]
    },
    {
      "cell_type": "markdown",
      "metadata": {
        "id": "ynFTn3otsnYj"
      },
      "source": [
        "```\n",
        "\n",
        "```"
      ]
    },
    {
      "cell_type": "markdown",
      "metadata": {
        "id": "RCB1DjH0qvSa"
      },
      "source": [
        "# Train models with energy method"
      ]
    },
    {
      "cell_type": "code",
      "metadata": {
        "id": "mtUmhxWeqvex"
      },
      "source": [
        "%%time\n",
        "%%bash\n",
        "cd energy_ood/CIFAR\n",
        "# run energy score training and testing for cifar10 WRN\n",
        "bash run.sh energy_ft 0\n",
        "\n",
        "# run energy score training and testing for cifar100 WRN\n",
        "bash run.sh energy_ft 1"
      ],
      "execution_count": null,
      "outputs": []
    },
    {
      "cell_type": "markdown",
      "metadata": {
        "id": "cV1rZ29FqvnL"
      },
      "source": [
        "## Outputs"
      ]
    },
    {
      "cell_type": "markdown",
      "metadata": {
        "id": "VpGpnEcuspPT"
      },
      "source": [
        "```\n",
        "\n",
        "```"
      ]
    }
  ]
}
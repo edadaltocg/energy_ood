{
  "nbformat": 4,
  "nbformat_minor": 0,
  "metadata": {
    "orig_nbformat": 2,
    "colab": {
      "name": "run_energy_ood_in_colab.ipynb",
      "provenance": [],
      "toc_visible": true
    },
    "kernelspec": {
      "name": "python3",
      "display_name": "Python 3"
    },
    "accelerator": "GPU"
  },
  "cells": [
    {
      "cell_type": "code",
      "metadata": {
        "colab": {
          "base_uri": "https://localhost:8080/",
          "height": 53
        },
        "id": "yFTpO37tqWeX",
        "outputId": "325f614e-c1a0-4250-cce8-8790bc7b2793"
      },
      "source": [
        "__dir__ = \"energy_ood\"\n",
        "__file__ = \"run_energy_ood_in_colab.ipynb\"\n",
        "__url__ = \"https://colab.research.google.com/github/edadaltocg/out-of-distribution-detection/blob/master/src/{}/{}\".format(__dir__, __file__)\n",
        "__url__"
      ],
      "execution_count": 52,
      "outputs": [
        {
          "output_type": "execute_result",
          "data": {
            "application/vnd.google.colaboratory.intrinsic+json": {
              "type": "string"
            },
            "text/plain": [
              "'https://colab.research.google.com/github/edadaltocg/out-of-distribution-detection/blob/master/src/energy_ood/run_energy_ood_in_colab.ipynb'"
            ]
          },
          "metadata": {
            "tags": []
          },
          "execution_count": 52
        }
      ]
    },
    {
      "cell_type": "markdown",
      "metadata": {
        "id": "nWAkqu2psUml"
      },
      "source": [
        "# GPU device"
      ]
    },
    {
      "cell_type": "code",
      "metadata": {
        "colab": {
          "base_uri": "https://localhost:8080/"
        },
        "id": "9wlR0jjJsV5E",
        "outputId": "2f788bcf-7717-4b7e-e993-8f71b0e1affc"
      },
      "source": [
        "%%bash\n",
        "/usr/local/cuda/bin/nvcc --version\n",
        "nvidia-smi -L"
      ],
      "execution_count": 44,
      "outputs": [
        {
          "output_type": "stream",
          "text": [
            "nvcc: NVIDIA (R) Cuda compiler driver\n",
            "Copyright (c) 2005-2019 NVIDIA Corporation\n",
            "Built on Sun_Jul_28_19:07:16_PDT_2019\n",
            "Cuda compilation tools, release 10.1, V10.1.243\n",
            "GPU 0: Tesla T4 (UUID: GPU-9d3e5877-043d-a786-5f91-99ea5a38c383)\n"
          ],
          "name": "stdout"
        }
      ]
    },
    {
      "cell_type": "markdown",
      "metadata": {
        "id": "Tylv9sOmqX6G"
      },
      "source": [
        "# Clone repo"
      ]
    },
    {
      "cell_type": "code",
      "metadata": {
        "colab": {
          "base_uri": "https://localhost:8080/"
        },
        "id": "9BwRFyduqCFT",
        "outputId": "23c87d15-1ea8-4b05-ed82-9f410c145349"
      },
      "source": [
        "%%bash\n",
        "rm -r energy_ood/\n",
        "git clone http://github.com/edadaltocg/energy_ood"
      ],
      "execution_count": 48,
      "outputs": [
        {
          "output_type": "stream",
          "text": [
            "Cloning into 'energy_ood'...\n",
            "warning: redirecting to https://github.com/edadaltocg/energy_ood/\n"
          ],
          "name": "stderr"
        }
      ]
    },
    {
      "cell_type": "markdown",
      "metadata": {
        "id": "0d9qep3NqdCO"
      },
      "source": [
        "# Download datasets"
      ]
    },
    {
      "cell_type": "code",
      "metadata": {
        "colab": {
          "base_uri": "https://localhost:8080/"
        },
        "id": "uPkydTytqegZ",
        "outputId": "1ddaca96-19f9-429c-c64e-19fce49f4711"
      },
      "source": [
        "%%time\n",
        "%%capture\n",
        "%%bash\n",
        "cd energy_ood/\n",
        "mkdir data/\n",
        "cd data/\n",
        "# Describable Textures Dataset (DTD)\n",
        "wget https://www.robots.ox.ac.uk/~vgg/data/dtd/download/dtd-r1.0.1.tar.gz\n",
        "tar -xvzf dtd-r1.0.1.tar.gz\n",
        "# Chars74K\n",
        "wget http://www.ee.surrey.ac.uk/CVSSP/demos/chars74k/EnglishImg.tgz\n",
        "tar -xvzf EnglishImg.tgz\n",
        "# LSUN-C\n",
        "wget https://www.dropbox.com/s/fhtsw1m3qxlwj6h/LSUN.tar.gz\n",
        "tar -xvzf LSUN.tar.gz\n",
        "# LSUN-R\n",
        "wget https://www.dropbox.com/s/moqh2wh8696c3yl/LSUN_resize.tar.gz\n",
        "tar -xvzf LSUN_resize.tar.gz\n",
        "#iSUN\n",
        "wget https://www.dropbox.com/s/ssz7qxfqae0cca5/iSUN.tar.gz\n",
        "tar -xvzf iSUN.tar.gz"
      ],
      "execution_count": 49,
      "outputs": [
        {
          "output_type": "stream",
          "text": [
            "CPU times: user 2.44 s, sys: 1.51 s, total: 3.96 s\n",
            "Wall time: 38.9 s\n"
          ],
          "name": "stdout"
        }
      ]
    },
    {
      "cell_type": "markdown",
      "metadata": {
        "id": "lWJh06Bpqr-h"
      },
      "source": [
        "# Run tests in pre-trained models"
      ]
    },
    {
      "cell_type": "code",
      "metadata": {
        "colab": {
          "base_uri": "https://localhost:8080/"
        },
        "id": "82NL9vAxqCFT",
        "outputId": "39e6ba92-c58f-41e7-9916-275c60624106"
      },
      "source": [
        "%%time\n",
        "%%bash\n",
        "cd energy_ood/CIFAR\n",
        "# run energy score testing for cifar10 WRN\n",
        "bash run.sh energy 0\n",
        "\n",
        "# run energy score testing for cifar100 WRN\n",
        "bash run.sh energy 1"
      ],
      "execution_count": 50,
      "outputs": [
        {
          "output_type": "stream",
          "text": [
            "-----------cifar10_wrn_pretrained energy score-----------------\n",
            "Namespace(T=1.0, droprate=0.3, layers=40, load='./snapshots', method_name='cifar10_wrn_pretrained', ngpu=1, noise=0, num_to_avg=10, out_as_pos=False, prefetch=2, score='energy', test_bs=200, use_xent=False, validate=False, widen_factor=2)\n",
            "Downloading https://www.cs.toronto.edu/~kriz/cifar-10-python.tar.gz to ../data/cifar-10-python.tar.gz\n",
            "Extracting ../data/cifar-10-python.tar.gz to ../data/\n",
            "Model restored! Epoch: 99\n",
            "Error Rate 5.16\n",
            "\n",
            "Using CIFAR-10 as typical data\n",
            "\n",
            "\n",
            "Error Detection\n",
            "\t\t\tcifar10_wrn_pretrained\n",
            "FPR95:\t\t\t25.17\n",
            "AUROC:\t\t\t93.36\n",
            "AUPR:\t\t\t45.73\n",
            "\n",
            "\n",
            "Texture Detection\n",
            "[-14.407909 -16.04899  -12.20411 ] [-3.9298818 -7.1608043 -8.694456 ]\n",
            "\t\t\t\tcifar10_wrn_pretrained\n",
            "  FPR95 AUROC AUPR\n",
            "& 53.00 & 85.23 & 95.45\n",
            "& 0.76 & 0.25 & 0.14\n",
            "Downloading http://ufldl.stanford.edu/housenumbers/test_32x32.mat to ../data/test_32x32.mat\n",
            "\n",
            "\n",
            "SVHN Detection\n",
            "[-14.407909 -16.04899  -12.20411 ] [-4.57227   -6.8413563 -5.7092695]\n",
            "\t\t\t\tcifar10_wrn_pretrained\n",
            "  FPR95 AUROC AUPR\n",
            "& 35.05 & 91.15 & 97.71\n",
            "& 0.71 & 0.30 & 0.11\n",
            "\n",
            "\n",
            "LSUN_C Detection\n",
            "[-14.407909 -16.04899  -12.20411 ] [-4.2149935 -5.421212  -3.2070503]\n",
            "\t\t\t\tcifar10_wrn_pretrained\n",
            "  FPR95 AUROC AUPR\n",
            "& 8.09 & 98.41 & 99.67\n",
            "& 0.33 & 0.06 & 0.02\n",
            "\n",
            "\n",
            "LSUN_Resize Detection\n",
            "[-14.407909 -16.04899  -12.20411 ] [-4.371685  -4.399654  -6.7669654]\n",
            "\t\t\t\tcifar10_wrn_pretrained\n",
            "  FPR95 AUROC AUPR\n",
            "& 28.21 & 94.14 & 98.66\n",
            "& 0.58 & 0.11 & 0.03\n",
            "\n",
            "\n",
            "iSUN Detection\n",
            "[-14.407909 -16.04899  -12.20411 ] [-11.195722  -4.535098  -9.571055]\n",
            "\t\t\t\tcifar10_wrn_pretrained\n",
            "  FPR95 AUROC AUPR\n",
            "& 33.90 & 92.52 & 98.23\n",
            "& 0.50 & 0.23 & 0.07\n",
            "\n",
            "\n",
            "Mean Test Results!!!!!\n",
            "\t\t\t\tcifar10_wrn_pretrained\n",
            "  FPR95 AUROC AUPR\n",
            "& 31.65 & 92.29 & 97.94\n",
            "||||||||done with cifar10_wrn_pretrained energy score above |||||||||||||||||||\n",
            "-----------cifar100_wrn_pretrained energy score-----------------\n",
            "Namespace(T=1.0, droprate=0.3, layers=40, load='./snapshots', method_name='cifar100_wrn_pretrained', ngpu=1, noise=0, num_to_avg=10, out_as_pos=False, prefetch=2, score='energy', test_bs=200, use_xent=False, validate=False, widen_factor=2)\n",
            "Downloading https://www.cs.toronto.edu/~kriz/cifar-100-python.tar.gz to ../data/cifar-100-python.tar.gz\n",
            "Extracting ../data/cifar-100-python.tar.gz to ../data/\n",
            "Model restored! Epoch: 99\n",
            "Error Rate 24.04\n",
            "\n",
            "Using CIFAR-100 as typical data\n",
            "\n",
            "\n",
            "Error Detection\n",
            "\t\t\tcifar100_wrn_pretrained\n",
            "FPR95:\t\t\t43.54\n",
            "AUROC:\t\t\t86.80\n",
            "AUPR:\t\t\t64.94\n",
            "\n",
            "\n",
            "Texture Detection\n",
            "[ -9.524346 -12.782997 -13.306398] [-11.636593  -9.877897 -10.850191]\n",
            "\t\t\t\tcifar100_wrn_pretrained\n",
            "  FPR95 AUROC AUPR\n",
            "& 79.48 & 76.23 & 93.62\n",
            "& 0.65 & 0.48 & 0.19\n",
            "Using downloaded and verified file: ../data/test_32x32.mat\n",
            "\n",
            "\n",
            "SVHN Detection\n",
            "[ -9.524346 -12.782997 -13.306398] [-10.318005  -10.921147   -7.9844947]\n",
            "\t\t\t\tcifar100_wrn_pretrained\n",
            "  FPR95 AUROC AUPR\n",
            "& 85.31 & 73.81 & 93.60\n",
            "& 0.52 & 0.45 & 0.15\n",
            "\n",
            "\n",
            "LSUN_C Detection\n",
            "[ -9.524346 -12.782997 -13.306398] [-7.1602297 -6.8975244 -9.517208 ]\n",
            "\t\t\t\tcifar100_wrn_pretrained\n",
            "  FPR95 AUROC AUPR\n",
            "& 36.15 & 93.45 & 98.60\n",
            "& 0.54 & 0.12 & 0.03\n",
            "\n",
            "\n",
            "LSUN_Resize Detection\n",
            "[ -9.524346 -12.782997 -13.306398] [ -9.499522 -10.450899 -10.408335]\n",
            "\t\t\t\tcifar100_wrn_pretrained\n",
            "  FPR95 AUROC AUPR\n",
            "& 79.02 & 79.34 & 95.00\n",
            "& 0.64 & 0.60 & 0.19\n",
            "\n",
            "\n",
            "iSUN Detection\n",
            "[ -9.524346 -12.782997 -13.306398] [ -8.372442 -16.572746 -11.277405]\n",
            "\t\t\t\tcifar100_wrn_pretrained\n",
            "  FPR95 AUROC AUPR\n",
            "& 81.07 & 79.15 & 94.98\n",
            "& 0.77 & 0.47 & 0.13\n",
            "\n",
            "\n",
            "Mean Test Results!!!!!\n",
            "\t\t\t\tcifar100_wrn_pretrained\n",
            "  FPR95 AUROC AUPR\n",
            "& 72.21 & 80.40 & 95.16\n",
            "||||||||done with cifar100_wrn_pretrained energy score above |||||||||||||||||||\n"
          ],
          "name": "stdout"
        },
        {
          "output_type": "stream",
          "text": [
            "\r0it [00:00, ?it/s]\r  0%|          | 0/170498071 [00:00<?, ?it/s]\r  0%|          | 450560/170498071 [00:00<00:40, 4239202.51it/s]\r  4%|▎         | 6381568/170498071 [00:00<00:27, 5875922.64it/s]\r  7%|▋         | 12754944/170498071 [00:00<00:19, 8072252.34it/s]\r 10%|█         | 17899520/170498071 [00:00<00:14, 10798841.54it/s]\r 14%|█▍        | 24346624/170498071 [00:00<00:10, 14393656.68it/s]\r 18%|█▊        | 31219712/170498071 [00:00<00:07, 18868760.86it/s]\r 22%|██▏       | 37175296/170498071 [00:00<00:05, 23731646.75it/s]\r 26%|██▌       | 44376064/170498071 [00:00<00:04, 29673349.97it/s]\r 30%|██▉       | 50446336/170498071 [00:01<00:03, 35047008.61it/s]\r 34%|███▍      | 57696256/170498071 [00:01<00:02, 41469451.74it/s]\r 38%|███▊      | 64479232/170498071 [00:01<00:02, 46857220.47it/s]\r 42%|████▏     | 71704576/170498071 [00:01<00:01, 52317690.37it/s]\r 46%|████▌     | 78397440/170498071 [00:01<00:01, 54302116.48it/s]\r 50%|████▉     | 84869120/170498071 [00:01<00:01, 56476535.51it/s]\r 54%|█████▎    | 91488256/170498071 [00:01<00:01, 59075896.28it/s]\r 58%|█████▊    | 98557952/170498071 [00:01<00:01, 62137808.23it/s]\r 62%|██████▏   | 105209856/170498071 [00:01<00:01, 62333458.48it/s]\r 66%|██████▌   | 112025600/170498071 [00:01<00:00, 63967916.55it/s]\r 70%|██████▉   | 119283712/170498071 [00:02<00:00, 66187852.46it/s]\r 74%|███████▍  | 126083072/170498071 [00:02<00:00, 66367298.63it/s]\r 78%|███████▊  | 133021696/170498071 [00:02<00:00, 67242767.03it/s]\r 82%|████████▏ | 140075008/170498071 [00:02<00:00, 68188617.92it/s]\r 86%|████████▋ | 147136512/170498071 [00:02<00:00, 68779210.82it/s]\r 91%|█████████ | 154402816/170498071 [00:02<00:00, 69898920.20it/s]\r 95%|█████████▍| 161431552/170498071 [00:02<00:00, 68912935.65it/s]\r 99%|█████████▉| 168402944/170498071 [00:02<00:00, 69125759.56it/s]\r170500096it [00:02, 61368648.97it/s]                               \n",
            "\r0it [00:00, ?it/s]\r  0%|          | 0/64275384 [00:00<?, ?it/s]\r  0%|          | 32768/64275384 [00:00<04:49, 222108.13it/s]\r  0%|          | 81920/64275384 [00:00<04:20, 246693.16it/s]\r  0%|          | 163840/64275384 [00:00<03:36, 295959.19it/s]\r  0%|          | 303104/64275384 [00:00<02:51, 372628.42it/s]\r  1%|          | 516096/64275384 [00:00<02:13, 479171.30it/s]\r  1%|▏         | 843776/64275384 [00:01<01:41, 626456.97it/s]\r  2%|▏         | 1343488/64275384 [00:01<01:15, 829093.21it/s]\r  3%|▎         | 2121728/64275384 [00:01<00:56, 1109549.31it/s]\r  5%|▌         | 3342336/64275384 [00:01<00:40, 1498669.49it/s]\r  8%|▊         | 5242880/64275384 [00:01<00:28, 2038938.18it/s]\r 13%|█▎        | 8290304/64275384 [00:01<00:19, 2830787.28it/s]\r 16%|█▌        | 10354688/64275384 [00:01<00:14, 3775309.09it/s]\r 21%|██▏       | 13795328/64275384 [00:01<00:09, 5150852.86it/s]\r 26%|██▋       | 16891904/64275384 [00:02<00:06, 6868454.75it/s]\r 31%|███       | 19726336/64275384 [00:02<00:05, 8867777.64it/s]\r 35%|███▍      | 22224896/64275384 [00:02<00:03, 10861559.63it/s]\r 39%|███▊      | 24903680/64275384 [00:02<00:02, 13177898.96it/s]\r 43%|████▎     | 27394048/64275384 [00:02<00:02, 15252152.02it/s]\r 46%|████▋     | 29876224/64275384 [00:02<00:01, 17245922.40it/s]\r 50%|█████     | 32350208/64275384 [00:02<00:01, 18879078.68it/s]\r 54%|█████▍    | 34807808/64275384 [00:02<00:01, 20140241.53it/s]\r 58%|█████▊    | 37421056/64275384 [00:02<00:01, 21593554.83it/s]\r 62%|██████▏   | 39911424/64275384 [00:02<00:01, 22265927.47it/s]\r 66%|██████▌   | 42377216/64275384 [00:03<00:01, 14816230.30it/s]\r 69%|██████▉   | 44351488/64275384 [00:03<00:01, 13582542.61it/s]\r 73%|███████▎  | 47054848/64275384 [00:03<00:01, 15953711.28it/s]\r 77%|███████▋  | 49545216/64275384 [00:03<00:00, 17679820.40it/s]\r 82%|████████▏ | 52715520/64275384 [00:03<00:00, 20361094.44it/s]\r 87%|████████▋ | 55869440/64275384 [00:03<00:00, 22780780.52it/s]\r 91%|█████████ | 58515456/64275384 [00:03<00:00, 22895895.42it/s]\r 97%|█████████▋| 62226432/64275384 [00:04<00:00, 25784115.52it/s]\r64282624it [00:04, 15427316.58it/s]                              \n",
            "\r0it [00:00, ?it/s]\r  0%|          | 0/169001437 [00:00<?, ?it/s]\r  0%|          | 434176/169001437 [00:00<00:43, 3902541.02it/s]\r  4%|▍         | 7208960/169001437 [00:00<00:29, 5440730.39it/s]\r 11%|█         | 18325504/169001437 [00:00<00:19, 7612726.17it/s]\r 17%|█▋        | 29392896/169001437 [00:00<00:13, 10563850.61it/s]\r 24%|██▍       | 40460288/169001437 [00:00<00:08, 14498130.17it/s]\r 30%|███       | 51535872/169001437 [00:00<00:05, 19610537.17it/s]\r 37%|███▋      | 62513152/169001437 [00:00<00:04, 26022137.56it/s]\r 43%|████▎     | 73375744/169001437 [00:00<00:02, 33710824.57it/s]\r 50%|████▉     | 84090880/169001437 [00:01<00:02, 42434855.59it/s]\r 56%|█████▌    | 94257152/169001437 [00:01<00:01, 51421287.80it/s]\r 62%|██████▏   | 104423424/169001437 [00:01<00:01, 60197082.15it/s]\r 68%|██████▊   | 115286016/169001437 [00:01<00:00, 69477843.53it/s]\r 74%|███████▍  | 125624320/169001437 [00:01<00:00, 75700642.55it/s]\r 81%|████████  | 136732672/169001437 [00:01<00:00, 83654965.48it/s]\r 87%|████████▋ | 147857408/169001437 [00:01<00:00, 90349129.50it/s]\r 94%|█████████▍| 158949376/169001437 [00:01<00:00, 95654995.69it/s]\r169009152it [00:01, 92534639.31it/s]                               \n"
          ],
          "name": "stderr"
        },
        {
          "output_type": "stream",
          "text": [
            "CPU times: user 17.8 ms, sys: 7.98 ms, total: 25.8 ms\n",
            "Wall time: 6min 48s\n"
          ],
          "name": "stdout"
        }
      ]
    },
    {
      "cell_type": "markdown",
      "metadata": {
        "id": "OXcPpsD0qt6M"
      },
      "source": [
        "## Outputs"
      ]
    },
    {
      "cell_type": "markdown",
      "metadata": {
        "id": "ynFTn3otsnYj"
      },
      "source": [
        "```\n",
        "-----------cifar10_wrn_pretrained energy score-----------------\n",
        "Namespace(T=1.0, droprate=0.3, layers=40, load='./snapshots', method_name='cifar10_wrn_pretrained', ngpu=1, noise=0, num_to_avg=10, out_as_pos=False, prefetch=2, score='energy', test_bs=200, use_xent=False, validate=False, widen_factor=2)\n",
        "Downloading https://www.cs.toronto.edu/~kriz/cifar-10-python.tar.gz to ../data/cifar-10-python.tar.gz\n",
        "Extracting ../data/cifar-10-python.tar.gz to ../data/\n",
        "Model restored! Epoch: 99\n",
        "Error Rate 5.16\n",
        "\n",
        "Using CIFAR-10 as typical data\n",
        "\n",
        "\n",
        "Error Detection\n",
        "\t\t\tcifar10_wrn_pretrained\n",
        "FPR95:\t\t\t25.17\n",
        "AUROC:\t\t\t93.36\n",
        "AUPR:\t\t\t45.73\n",
        "\n",
        "\n",
        "Texture Detection\n",
        "[-14.407909 -16.04899  -12.20411 ] [-3.9298818 -7.1608043 -8.694456 ]\n",
        "\t\t\t\tcifar10_wrn_pretrained\n",
        "  FPR95 AUROC AUPR\n",
        "& 53.00 & 85.23 & 95.45\n",
        "& 0.76 & 0.25 & 0.14\n",
        "Downloading http://ufldl.stanford.edu/housenumbers/test_32x32.mat to ../data/test_32x32.mat\n",
        "\n",
        "\n",
        "SVHN Detection\n",
        "[-14.407909 -16.04899  -12.20411 ] [-4.57227   -6.8413563 -5.7092695]\n",
        "\t\t\t\tcifar10_wrn_pretrained\n",
        "  FPR95 AUROC AUPR\n",
        "& 35.05 & 91.15 & 97.71\n",
        "& 0.71 & 0.30 & 0.11\n",
        "\n",
        "\n",
        "LSUN_C Detection\n",
        "[-14.407909 -16.04899  -12.20411 ] [-4.2149935 -5.421212  -3.2070503]\n",
        "\t\t\t\tcifar10_wrn_pretrained\n",
        "  FPR95 AUROC AUPR\n",
        "& 8.09 & 98.41 & 99.67\n",
        "& 0.33 & 0.06 & 0.02\n",
        "\n",
        "\n",
        "LSUN_Resize Detection\n",
        "[-14.407909 -16.04899  -12.20411 ] [-4.371685  -4.399654  -6.7669654]\n",
        "\t\t\t\tcifar10_wrn_pretrained\n",
        "  FPR95 AUROC AUPR\n",
        "& 28.21 & 94.14 & 98.66\n",
        "& 0.58 & 0.11 & 0.03\n",
        "\n",
        "\n",
        "iSUN Detection\n",
        "[-14.407909 -16.04899  -12.20411 ] [-11.195722  -4.535098  -9.571055]\n",
        "\t\t\t\tcifar10_wrn_pretrained\n",
        "  FPR95 AUROC AUPR\n",
        "& 33.90 & 92.52 & 98.23\n",
        "& 0.50 & 0.23 & 0.07\n",
        "\n",
        "\n",
        "Mean Test Results!!!!!\n",
        "\t\t\t\tcifar10_wrn_pretrained\n",
        "  FPR95 AUROC AUPR\n",
        "& 31.65 & 92.29 & 97.94\n",
        "||||||||done with cifar10_wrn_pretrained energy score above |||||||||||||||||||\n",
        "-----------cifar100_wrn_pretrained energy score-----------------\n",
        "Namespace(T=1.0, droprate=0.3, layers=40, load='./snapshots', method_name='cifar100_wrn_pretrained', ngpu=1, noise=0, num_to_avg=10, out_as_pos=False, prefetch=2, score='energy', test_bs=200, use_xent=False, validate=False, widen_factor=2)\n",
        "Downloading https://www.cs.toronto.edu/~kriz/cifar-100-python.tar.gz to ../data/cifar-100-python.tar.gz\n",
        "Extracting ../data/cifar-100-python.tar.gz to ../data/\n",
        "Model restored! Epoch: 99\n",
        "Error Rate 24.04\n",
        "\n",
        "Using CIFAR-100 as typical data\n",
        "\n",
        "\n",
        "Error Detection\n",
        "\t\t\tcifar100_wrn_pretrained\n",
        "FPR95:\t\t\t43.54\n",
        "AUROC:\t\t\t86.80\n",
        "AUPR:\t\t\t64.94\n",
        "\n",
        "\n",
        "Texture Detection\n",
        "[ -9.524346 -12.782997 -13.306398] [-11.636593  -9.877897 -10.850191]\n",
        "\t\t\t\tcifar100_wrn_pretrained\n",
        "  FPR95 AUROC AUPR\n",
        "& 79.48 & 76.23 & 93.62\n",
        "& 0.65 & 0.48 & 0.19\n",
        "Using downloaded and verified file: ../data/test_32x32.mat\n",
        "\n",
        "\n",
        "SVHN Detection\n",
        "[ -9.524346 -12.782997 -13.306398] [-10.318005  -10.921147   -7.9844947]\n",
        "\t\t\t\tcifar100_wrn_pretrained\n",
        "  FPR95 AUROC AUPR\n",
        "& 85.31 & 73.81 & 93.60\n",
        "& 0.52 & 0.45 & 0.15\n",
        "\n",
        "\n",
        "LSUN_C Detection\n",
        "[ -9.524346 -12.782997 -13.306398] [-7.1602297 -6.8975244 -9.517208 ]\n",
        "\t\t\t\tcifar100_wrn_pretrained\n",
        "  FPR95 AUROC AUPR\n",
        "& 36.15 & 93.45 & 98.60\n",
        "& 0.54 & 0.12 & 0.03\n",
        "\n",
        "\n",
        "LSUN_Resize Detection\n",
        "[ -9.524346 -12.782997 -13.306398] [ -9.499522 -10.450899 -10.408335]\n",
        "\t\t\t\tcifar100_wrn_pretrained\n",
        "  FPR95 AUROC AUPR\n",
        "& 79.02 & 79.34 & 95.00\n",
        "& 0.64 & 0.60 & 0.19\n",
        "\n",
        "\n",
        "iSUN Detection\n",
        "[ -9.524346 -12.782997 -13.306398] [ -8.372442 -16.572746 -11.277405]\n",
        "\t\t\t\tcifar100_wrn_pretrained\n",
        "  FPR95 AUROC AUPR\n",
        "& 81.07 & 79.15 & 94.98\n",
        "& 0.77 & 0.47 & 0.13\n",
        "\n",
        "\n",
        "Mean Test Results!!!!!\n",
        "\t\t\t\tcifar100_wrn_pretrained\n",
        "  FPR95 AUROC AUPR\n",
        "& 72.21 & 80.40 & 95.16\n",
        "||||||||done with cifar100_wrn_pretrained energy score above |||||||||||||||||||\n",
        "170500096it [00:02, 61368648.97it/s]                               \n",
        "64282624it [00:04, 15427316.58it/s]                              \n",
        "169009152it [00:01, 92534639.31it/s]                               \n",
        "CPU times: user 17.8 ms, sys: 7.98 ms, total: 25.8 ms\n",
        "Wall time: 6min 48s\n",
        "```"
      ]
    },
    {
      "cell_type": "markdown",
      "metadata": {
        "id": "RCB1DjH0qvSa"
      },
      "source": [
        "# Train models with energy method"
      ]
    },
    {
      "cell_type": "code",
      "metadata": {
        "colab": {
          "base_uri": "https://localhost:8080/"
        },
        "id": "mtUmhxWeqvex",
        "outputId": "c12b2828-4f00-43f0-a282-2d7083950534"
      },
      "source": [
        "%%time\n",
        "%%bash\n",
        "cd energy_ood/CIFAR\n",
        "# run energy score training and testing for cifar10 WRN\n",
        "bash run.sh energy_ft 0\n",
        "\n",
        "# run energy score training and testing for cifar100 WRN\n",
        "bash run.sh energy_ft 1"
      ],
      "execution_count": 51,
      "outputs": [
        {
          "output_type": "stream",
          "text": [
            "---Training with dataset: cifar10---model used:wrn---seed: 1---score used:energy---------\n",
            "----------------23-------5--------------------\n",
            "{'batch_size': 128, 'calibration': False, 'dataset': 'cifar10', 'decay': 0.0005, 'droprate': 0.3, 'epochs': 10, 'layers': 40, 'learning_rate': 0.001, 'load': './snapshots/pretrained', 'm_in': -23.0, 'm_out': -5.0, 'model': 'wrn', 'momentum': 0.9, 'ngpu': 1, 'oe_batch_size': 256, 'prefetch': 4, 'save': './snapshots/energy_ft', 'score': 'energy', 'seed': 1, 'test': False, 'test_bs': 200, 'widen_factor': 2}\n",
            "Namespace(T=1.0, droprate=0.3, layers=40, load='./snapshots', method_name='cifar10_wrn_s1_energy_ft', ngpu=1, noise=0, num_to_avg=10, out_as_pos=False, prefetch=2, score='energy', test_bs=200, use_xent=False, validate=False, widen_factor=2)\n",
            "Files already downloaded and verified\n",
            "Model restored! Epoch: 9\n",
            "Error Rate 4.78\n",
            "\n",
            "Using CIFAR-10 as typical data\n",
            "\n",
            "\n",
            "Error Detection\n",
            "\t\t\tcifar10_wrn_s1_energy_ft\n",
            "FPR95:\t\t\t19.34\n",
            "AUROC:\t\t\t94.13\n",
            "AUPR:\t\t\t43.29\n",
            "\n",
            "\n",
            "Texture Detection\n",
            "[-27.511126 -30.316227 -25.528389] [-4.7299967 -6.6199045 -3.9622302]\n",
            "\t\t\t\tcifar10_wrn_s1_energy_ft\n",
            "  FPR95 AUROC AUPR\n",
            "& 5.42 & 98.58 & 99.65\n",
            "& 0.39 & 0.07 & 0.04\n",
            "Using downloaded and verified file: ../data/test_32x32.mat\n",
            "\n",
            "\n",
            "SVHN Detection\n",
            "[-27.511126 -30.316227 -25.528389] [-7.7919836 -4.753242  -5.958099 ]\n",
            "\t\t\t\tcifar10_wrn_s1_energy_ft\n",
            "  FPR95 AUROC AUPR\n",
            "& 1.70 & 99.26 & 99.85\n",
            "& 0.38 & 0.04 & 0.01\n",
            "\n",
            "\n",
            "LSUN_C Detection\n",
            "[-27.511126 -30.316227 -25.528389] [-5.80776   -7.3010125 -5.747036 ]\n",
            "\t\t\t\tcifar10_wrn_s1_energy_ft\n",
            "  FPR95 AUROC AUPR\n",
            "& 1.37 & 99.28 & 99.85\n",
            "& 0.23 & 0.04 & 0.02\n",
            "\n",
            "\n",
            "LSUN_Resize Detection\n",
            "[-27.511126 -30.316227 -25.528389] [-6.068636 -5.686617 -5.136879]\n",
            "\t\t\t\tcifar10_wrn_s1_energy_ft\n",
            "  FPR95 AUROC AUPR\n",
            "& 1.40 & 99.35 & 99.87\n",
            "& 0.24 & 0.03 & 0.01\n",
            "\n",
            "\n",
            "iSUN Detection\n",
            "[-27.511126 -30.316227 -25.528389] [ -7.7756953 -17.667347   -9.254368 ]\n",
            "\t\t\t\tcifar10_wrn_s1_energy_ft\n",
            "  FPR95 AUROC AUPR\n",
            "& 1.75 & 99.28 & 99.86\n",
            "& 0.12 & 0.03 & 0.01\n",
            "\n",
            "\n",
            "Mean Test Results!!!!!\n",
            "\t\t\t\tcifar10_wrn_s1_energy_ft\n",
            "  FPR95 AUROC AUPR\n",
            "& 2.33 & 99.15 & 99.82\n",
            "||||||||done with training above energy_ft|||||||||||||||||||\n",
            "---Training with dataset: cifar100---model used:wrn---seed: 1---score used:energy---------\n",
            "----------------27-------5--------------------\n",
            "{'batch_size': 128, 'calibration': False, 'dataset': 'cifar100', 'decay': 0.0005, 'droprate': 0.3, 'epochs': 10, 'layers': 40, 'learning_rate': 0.001, 'load': './snapshots/pretrained', 'm_in': -27.0, 'm_out': -5.0, 'model': 'wrn', 'momentum': 0.9, 'ngpu': 1, 'oe_batch_size': 256, 'prefetch': 4, 'save': './snapshots/energy_ft', 'score': 'energy', 'seed': 1, 'test': False, 'test_bs': 200, 'widen_factor': 2}\n",
            "Namespace(T=1.0, droprate=0.3, layers=40, load='./snapshots', method_name='cifar100_wrn_s1_energy_ft', ngpu=1, noise=0, num_to_avg=10, out_as_pos=False, prefetch=2, score='energy', test_bs=200, use_xent=False, validate=False, widen_factor=2)\n",
            "Files already downloaded and verified\n",
            "Model restored! Epoch: 9\n",
            "Error Rate 24.30\n",
            "\n",
            "Using CIFAR-100 as typical data\n",
            "\n",
            "\n",
            "Error Detection\n",
            "\t\t\tcifar100_wrn_s1_energy_ft\n",
            "FPR95:\t\t\t41.72\n",
            "AUROC:\t\t\t86.64\n",
            "AUPR:\t\t\t63.34\n",
            "\n",
            "\n",
            "Texture Detection\n",
            "[-15.1166525 -13.281871  -25.325542 ] [-19.806063   -8.6265545 -10.287499 ]\n",
            "\t\t\t\tcifar100_wrn_s1_energy_ft\n",
            "  FPR95 AUROC AUPR\n",
            "& 55.20 & 87.73 & 97.09\n",
            "& 0.58 & 0.21 & 0.08\n",
            "Using downloaded and verified file: ../data/test_32x32.mat\n",
            "\n",
            "\n",
            "SVHN Detection\n",
            "[-15.1166525 -13.281871  -25.325542 ] [-11.828235  -8.043394  -9.29813 ]\n",
            "\t\t\t\tcifar100_wrn_s1_energy_ft\n",
            "  FPR95 AUROC AUPR\n",
            "& 20.46 & 96.51 & 99.29\n",
            "& 1.08 & 0.10 & 0.02\n",
            "\n",
            "\n",
            "LSUN_C Detection\n",
            "[-15.1166525 -13.281871  -25.325542 ] [-21.32283    -7.425598   -6.8321238]\n",
            "\t\t\t\tcifar100_wrn_s1_energy_ft\n",
            "  FPR95 AUROC AUPR\n",
            "& 15.80 & 96.99 & 99.35\n",
            "& 0.43 & 0.10 & 0.03\n",
            "\n",
            "\n",
            "LSUN_Resize Detection\n",
            "[-15.1166525 -13.281871  -25.325542 ] [ -7.1209555 -14.102268   -6.2222652]\n",
            "\t\t\t\tcifar100_wrn_s1_energy_ft\n",
            "  FPR95 AUROC AUPR\n",
            "& 68.41 & 80.43 & 94.88\n",
            "& 0.88 & 0.38 & 0.13\n",
            "\n",
            "\n",
            "iSUN Detection\n",
            "[-15.1166525 -13.281871  -25.325542 ] [-12.916498 -22.896679 -14.739353]\n",
            "\t\t\t\tcifar100_wrn_s1_energy_ft\n",
            "  FPR95 AUROC AUPR\n",
            "& 68.90 & 78.59 & 94.27\n",
            "& 0.71 & 0.22 & 0.09\n",
            "\n",
            "\n",
            "Mean Test Results!!!!!\n",
            "\t\t\t\tcifar100_wrn_s1_energy_ft\n",
            "  FPR95 AUROC AUPR\n",
            "& 45.76 & 88.05 & 96.98\n",
            "||||||||done with training above energy_ft|||||||||||||||||||\n"
          ],
          "name": "stdout"
        },
        {
          "output_type": "stream",
          "text": [
            "Traceback (most recent call last):\n",
            "  File \"train.py\", line 138, in <module>\n",
            "    \"../data/cifarpy\", train=True, transform=train_transform\n",
            "  File \"/usr/local/lib/python3.6/dist-packages/torchvision/datasets/cifar.py\", line 69, in __init__\n",
            "    ' You can use download=True to download it')\n",
            "RuntimeError: Dataset not found or corrupted. You can use download=True to download it\n",
            "Traceback (most recent call last):\n",
            "  File \"train.py\", line 144, in <module>\n",
            "    \"../data/cifarpy\", train=True, transform=train_transform\n",
            "  File \"/usr/local/lib/python3.6/dist-packages/torchvision/datasets/cifar.py\", line 69, in __init__\n",
            "    ' You can use download=True to download it')\n",
            "RuntimeError: Dataset not found or corrupted. You can use download=True to download it\n"
          ],
          "name": "stderr"
        },
        {
          "output_type": "stream",
          "text": [
            "CPU times: user 13.9 ms, sys: 7.85 ms, total: 21.7 ms\n",
            "Wall time: 6min 26s\n"
          ],
          "name": "stdout"
        }
      ]
    },
    {
      "cell_type": "markdown",
      "metadata": {
        "id": "cV1rZ29FqvnL"
      },
      "source": [
        "## Outputs"
      ]
    },
    {
      "cell_type": "markdown",
      "metadata": {
        "id": "VpGpnEcuspPT"
      },
      "source": [
        "```\n",
        "\n",
        "```"
      ]
    }
  ]
}
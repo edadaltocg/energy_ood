{
 "metadata": {
  "language_info": {
   "codemirror_mode": {
    "name": "ipython",
    "version": 3
   },
   "file_extension": ".py",
   "mimetype": "text/x-python",
   "name": "python",
   "nbconvert_exporter": "python",
   "pygments_lexer": "ipython3",
   "version": 3
  },
  "orig_nbformat": 2
 },
 "nbformat": 4,
 "nbformat_minor": 2,
 "cells": [
  {
   "cell_type": "code",
   "execution_count": null,
   "metadata": {},
   "outputs": [],
   "source": [
    "%%bash\n",
    "git clone http://github.com/edadaltocg/energy_ood\n",
    "cd energy_ood/\n"
   ]
  },
  {
   "cell_type": "code",
   "execution_count": null,
   "metadata": {},
   "outputs": [],
   "source": [
    "%%bash\n",
    "cd energy_ood/CIFAR\n",
    "# run energy score testing for cifar10 WRN\n",
    "bash run.sh energy 0\n",
    "\n",
    "#run energy score testing for cifar100 WRN\n",
    "bash run.sh energy 1\n",
    "\n",
    "#run energy score training and testing for cifar10 WRN\n",
    "bash run.sh energy_ft 0\n",
    "\n",
    "#run energy score training and testing for cifar100 WRN\n",
    "bash run.sh energy_ft 1"
   ]
  }
 ]
}
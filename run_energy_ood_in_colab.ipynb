{
  "nbformat": 4,
  "nbformat_minor": 0,
  "metadata": {
    "orig_nbformat": 2,
    "colab": {
      "name": "run_energy_ood_in_colab.ipynb",
      "provenance": [],
      "toc_visible": true
    },
    "kernelspec": {
      "name": "python3",
      "display_name": "Python 3"
    },
    "accelerator": "GPU"
  },
  "cells": [
    {
      "cell_type": "code",
      "metadata": {
        "colab": {
          "base_uri": "https://localhost:8080/",
          "height": 53
        },
        "id": "yFTpO37tqWeX",
        "outputId": "8f5c3505-69fa-4f2c-fea7-bf567b52b116"
      },
      "source": [
        "__dir__ = \"energy_ood\"\n",
        "__file__ = \"run_energy_ood_in_colab.ipynb\"\n",
        "__url__ = \"https://colab.research.google.com/github/edadaltocg/out-of-distribution-detection/blob/master/src/{}/{}\".format(__dir__, __file__)\n",
        "__url__"
      ],
      "execution_count": 43,
      "outputs": [
        {
          "output_type": "execute_result",
          "data": {
            "application/vnd.google.colaboratory.intrinsic+json": {
              "type": "string"
            },
            "text/plain": [
              "'https://colab.research.google.com/github/edadaltocg/out-of-distribution-detection/blob/master/src/energy_ood/run_energy_ood_in_colab.ipynb'"
            ]
          },
          "metadata": {
            "tags": []
          },
          "execution_count": 43
        }
      ]
    },
    {
      "cell_type": "markdown",
      "metadata": {
        "id": "nWAkqu2psUml"
      },
      "source": [
        "# GPU device"
      ]
    },
    {
      "cell_type": "code",
      "metadata": {
        "colab": {
          "base_uri": "https://localhost:8080/"
        },
        "id": "9wlR0jjJsV5E",
        "outputId": "2f788bcf-7717-4b7e-e993-8f71b0e1affc"
      },
      "source": [
        "%%bash\n",
        "/usr/local/cuda/bin/nvcc --version\n",
        "nvidia-smi -L"
      ],
      "execution_count": 44,
      "outputs": [
        {
          "output_type": "stream",
          "text": [
            "nvcc: NVIDIA (R) Cuda compiler driver\n",
            "Copyright (c) 2005-2019 NVIDIA Corporation\n",
            "Built on Sun_Jul_28_19:07:16_PDT_2019\n",
            "Cuda compilation tools, release 10.1, V10.1.243\n",
            "GPU 0: Tesla T4 (UUID: GPU-9d3e5877-043d-a786-5f91-99ea5a38c383)\n"
          ],
          "name": "stdout"
        }
      ]
    },
    {
      "cell_type": "markdown",
      "metadata": {
        "id": "Tylv9sOmqX6G"
      },
      "source": [
        "# Clone repo"
      ]
    },
    {
      "cell_type": "code",
      "metadata": {
        "colab": {
          "base_uri": "https://localhost:8080/"
        },
        "id": "9BwRFyduqCFT",
        "outputId": "62049476-0564-4075-f2b8-d0c543a4d868"
      },
      "source": [
        "%%bash\n",
        "rm -r energy_ood/\n",
        "git clone http://github.com/edadaltocg/energy_ood"
      ],
      "execution_count": 45,
      "outputs": [
        {
          "output_type": "stream",
          "text": [
            "Cloning into 'energy_ood'...\n",
            "warning: redirecting to https://github.com/edadaltocg/energy_ood/\n"
          ],
          "name": "stderr"
        }
      ]
    },
    {
      "cell_type": "markdown",
      "metadata": {
        "id": "0d9qep3NqdCO"
      },
      "source": [
        "# Download datasets"
      ]
    },
    {
      "cell_type": "code",
      "metadata": {
        "colab": {
          "base_uri": "https://localhost:8080/"
        },
        "id": "uPkydTytqegZ",
        "outputId": "01e8e010-cb5e-4b59-b103-eee2b280289c"
      },
      "source": [
        "%%time\n",
        "%%capture\n",
        "%%bash\n",
        "cd energy_ood/\n",
        "mkdir data/\n",
        "cd data/\n",
        "# Describable Textures Dataset (DTD)\n",
        "wget https://www.robots.ox.ac.uk/~vgg/data/dtd/download/dtd-r1.0.1.tar.gz\n",
        "tar -xvzf dtd-r1.0.1.tar.gz\n",
        "# Chars74K\n",
        "wget http://www.ee.surrey.ac.uk/CVSSP/demos/chars74k/EnglishImg.tgz\n",
        "tar -xvzf EnglishImg.tgz\n",
        "# LSUN-C\n",
        "wget https://www.dropbox.com/s/fhtsw1m3qxlwj6h/LSUN.tar.gz\n",
        "tar -xvzf LSUN.tar.gz\n",
        "# LSUN-R\n",
        "wget https://www.dropbox.com/s/moqh2wh8696c3yl/LSUN_resize.tar.gz\n",
        "tar -xvzf LSUN_resize.tar.gz\n",
        "#iSUN\n",
        "wget https://www.dropbox.com/s/ssz7qxfqae0cca5/iSUN.tar.gz\n",
        "tar -xvzf iSUN.tar.gz"
      ],
      "execution_count": 46,
      "outputs": [
        {
          "output_type": "stream",
          "text": [
            "CPU times: user 2.52 s, sys: 1.48 s, total: 4 s\n",
            "Wall time: 41.1 s\n"
          ],
          "name": "stdout"
        }
      ]
    },
    {
      "cell_type": "markdown",
      "metadata": {
        "id": "lWJh06Bpqr-h"
      },
      "source": [
        "# Run tests in pre-trained models"
      ]
    },
    {
      "cell_type": "code",
      "metadata": {
        "colab": {
          "base_uri": "https://localhost:8080/"
        },
        "id": "82NL9vAxqCFT",
        "outputId": "c70eba1b-a60b-49be-8d21-ecffa13c12fd"
      },
      "source": [
        "%%time\n",
        "%%bash\n",
        "cd energy_ood/CIFAR\n",
        "# run energy score testing for cifar10 WRN\n",
        "bash run.sh energy 0\n",
        "\n",
        "# run energy score testing for cifar100 WRN\n",
        "bash run.sh energy 1"
      ],
      "execution_count": 47,
      "outputs": [
        {
          "output_type": "stream",
          "text": [
            "-----------cifar10_wrn_pretrained energy score-----------------\n",
            "Namespace(T=1.0, droprate=0.3, layers=40, load='./snapshots', method_name='cifar10_wrn_pretrained', ngpu=1, noise=0, num_to_avg=10, out_as_pos=False, prefetch=2, score='energy', test_bs=200, use_xent=False, validate=False, widen_factor=2)\n",
            "Downloading https://www.cs.toronto.edu/~kriz/cifar-10-python.tar.gz to ../data/cifar-10-python.tar.gz\n",
            "Extracting ../data/cifar-10-python.tar.gz to ../data/\n",
            "Model restored! Epoch: 99\n",
            "Error Rate 5.16\n",
            "\n",
            "Using CIFAR-10 as typical data\n",
            "\n",
            "\n",
            "Error Detection\n",
            "\t\t\tcifar10_wrn_pretrained\n",
            "FPR95:\t\t\t25.17\n",
            "AUROC:\t\t\t93.36\n",
            "AUPR:\t\t\t45.73\n",
            "\n",
            "\n",
            "Texture Detection\n",
            "[-14.407909 -16.04899  -12.20411 ] [-5.02658   -6.5646405 -5.395067 ]\n",
            "\t\t\t\tcifar10_wrn_pretrained\n",
            "  FPR95 AUROC AUPR\n",
            "& 52.46 & 85.52 & 95.60\n",
            "& 0.63 & 0.24 & 0.14\n",
            "Downloading http://ufldl.stanford.edu/housenumbers/test_32x32.mat to ../data/test_32x32.mat\n",
            "\n",
            "\n",
            "SVHN Detection\n",
            "[-14.407909 -16.04899  -12.20411 ] [-4.9036674 -5.7974534 -7.4065423]\n",
            "\t\t\t\tcifar10_wrn_pretrained\n",
            "  FPR95 AUROC AUPR\n",
            "& 35.12 & 91.06 & 97.67\n",
            "& 1.03 & 0.26 & 0.11\n",
            "\n",
            "\n",
            "LSUN_C Detection\n",
            "[-14.407909 -16.04899  -12.20411 ] [-3.7656102 -5.3656783 -6.2041216]\n",
            "\t\t\t\tcifar10_wrn_pretrained\n",
            "  FPR95 AUROC AUPR\n",
            "& 8.07 & 98.38 & 99.66\n",
            "& 0.60 & 0.09 & 0.03\n",
            "||||||||done with cifar10_wrn_pretrained energy score above |||||||||||||||||||\n",
            "-----------cifar100_wrn_pretrained energy score-----------------\n",
            "Namespace(T=1.0, droprate=0.3, layers=40, load='./snapshots', method_name='cifar100_wrn_pretrained', ngpu=1, noise=0, num_to_avg=10, out_as_pos=False, prefetch=2, score='energy', test_bs=200, use_xent=False, validate=False, widen_factor=2)\n",
            "Downloading https://www.cs.toronto.edu/~kriz/cifar-100-python.tar.gz to ../data/cifar-100-python.tar.gz\n",
            "Extracting ../data/cifar-100-python.tar.gz to ../data/\n",
            "Model restored! Epoch: 99\n",
            "Error Rate 24.04\n",
            "\n",
            "Using CIFAR-100 as typical data\n",
            "\n",
            "\n",
            "Error Detection\n",
            "\t\t\tcifar100_wrn_pretrained\n",
            "FPR95:\t\t\t43.54\n",
            "AUROC:\t\t\t86.80\n",
            "AUPR:\t\t\t64.94\n",
            "\n",
            "\n",
            "Texture Detection\n",
            "[ -9.524346 -12.782997 -13.306398] [ -9.592745  -13.857715   -7.5673804]\n",
            "\t\t\t\tcifar100_wrn_pretrained\n",
            "  FPR95 AUROC AUPR\n",
            "& 80.11 & 76.01 & 93.52\n",
            "& 0.69 & 0.37 & 0.16\n",
            "Using downloaded and verified file: ../data/test_32x32.mat\n",
            "\n",
            "\n",
            "SVHN Detection\n",
            "[ -9.524346 -12.782997 -13.306398] [ -7.871019 -14.47611   -9.723523]\n",
            "\t\t\t\tcifar100_wrn_pretrained\n",
            "  FPR95 AUROC AUPR\n",
            "& 85.10 & 74.06 & 93.64\n",
            "& 0.71 & 0.22 & 0.09\n",
            "\n",
            "\n",
            "LSUN_C Detection\n",
            "[ -9.524346 -12.782997 -13.306398] [-7.1179266 -6.9004874 -8.405529 ]\n",
            "\t\t\t\tcifar100_wrn_pretrained\n",
            "  FPR95 AUROC AUPR\n",
            "& 35.83 & 93.42 & 98.59\n",
            "& 0.54 & 0.14 & 0.04\n",
            "||||||||done with cifar100_wrn_pretrained energy score above |||||||||||||||||||\n"
          ],
          "name": "stdout"
        },
        {
          "output_type": "stream",
          "text": [
            "\r0it [00:00, ?it/s]\r  0%|          | 8192/170498071 [00:00<40:07, 70819.85it/s]\r  1%|          | 909312/170498071 [00:00<28:02, 100793.14it/s]\r  6%|▌         | 9887744/170498071 [00:00<18:35, 143920.93it/s]\r 13%|█▎        | 21487616/170498071 [00:00<12:05, 205491.99it/s]\r 19%|█▉        | 33054720/170498071 [00:00<07:48, 293336.63it/s]\r 26%|██▌       | 44441600/170498071 [00:00<05:01, 418589.60it/s]\r 33%|███▎      | 56107008/170498071 [00:00<03:11, 597066.18it/s]\r 40%|███▉      | 67485696/170498071 [00:00<02:01, 851036.30it/s]\r 46%|████▋     | 79142912/170498071 [00:00<01:15, 1211971.71it/s]\r 53%|█████▎    | 89669632/170498071 [00:01<00:46, 1722661.83it/s]\r 59%|█████▉    | 101228544/170498071 [00:01<00:28, 2445313.08it/s]\r 66%|██████▌   | 112705536/170498071 [00:01<00:16, 3461692.64it/s]\r 73%|███████▎  | 124231680/170498071 [00:01<00:09, 4882423.86it/s]\r 80%|███████▉  | 135766016/170498071 [00:01<00:05, 6850536.16it/s]\r 86%|████████▋ | 147382272/170498071 [00:01<00:02, 9545207.64it/s]\r 93%|█████████▎| 158818304/170498071 [00:01<00:00, 13164429.46it/s]\r100%|█████████▉| 170205184/170498071 [00:01<00:00, 17916442.61it/s]\r170500096it [00:01, 98351762.08it/s]                               \n",
            "\r0it [00:00, ?it/s]\r  0%|          | 0/64275384 [00:00<?, ?it/s]\r  0%|          | 32768/64275384 [00:00<04:47, 223227.52it/s]\r  0%|          | 81920/64275384 [00:00<04:18, 247991.91it/s]\r  0%|          | 172032/64275384 [00:00<03:32, 301959.61it/s]\r  0%|          | 319488/64275384 [00:00<02:47, 382091.67it/s]\r  1%|          | 540672/64275384 [00:00<02:09, 492275.77it/s]\r  1%|▏         | 868352/64275384 [00:01<01:38, 642498.69it/s]\r  2%|▏         | 1359872/64275384 [00:01<01:14, 847994.54it/s]\r  3%|▎         | 2121728/64275384 [00:01<00:54, 1132080.48it/s]\r  5%|▌         | 3334144/64275384 [00:01<00:39, 1527446.13it/s]\r  8%|▊         | 5259264/64275384 [00:01<00:28, 2078215.12it/s]\r 13%|█▎        | 8282112/64275384 [00:01<00:19, 2845482.77it/s]\r 20%|█▉        | 12713984/64275384 [00:01<00:13, 3906875.08it/s]\r 29%|██▊       | 18325504/64275384 [00:02<00:08, 5419422.40it/s]\r 34%|███▍      | 21839872/64275384 [00:02<00:05, 7171740.58it/s]\r 41%|████▏     | 26566656/64275384 [00:02<00:03, 9619275.81it/s]\r 49%|████▊     | 31203328/64275384 [00:02<00:02, 12413488.43it/s]\r 54%|█████▍    | 34930688/64275384 [00:02<00:01, 15463603.96it/s]\r 63%|██████▎   | 40550400/64275384 [00:02<00:01, 19398660.22it/s]\r 69%|██████▉   | 44490752/64275384 [00:02<00:00, 22284735.16it/s]\r 78%|███████▊  | 49913856/64275384 [00:02<00:00, 26874122.31it/s]\r 84%|████████▍ | 54116352/64275384 [00:02<00:00, 28374060.32it/s]\r 93%|█████████▎| 59588608/64275384 [00:03<00:00, 30512369.65it/s]\r64282624it [00:03, 20282139.66it/s]                              \n",
            "Traceback (most recent call last):\n",
            "  File \"test.py\", line 399, in <module>\n",
            "    transform=trn.Compose([trn.ToTensor(), trn.Normalize(mean, std)]),\n",
            "  File \"/usr/local/lib/python3.6/dist-packages/torchvision/datasets/folder.py\", line 229, in __init__\n",
            "    is_valid_file=is_valid_file)\n",
            "  File \"/usr/local/lib/python3.6/dist-packages/torchvision/datasets/folder.py\", line 108, in __init__\n",
            "    classes, class_to_idx = self._find_classes(self.root)\n",
            "  File \"/usr/local/lib/python3.6/dist-packages/torchvision/datasets/folder.py\", line 137, in _find_classes\n",
            "    classes = [d.name for d in os.scandir(dir) if d.is_dir()]\n",
            "FileNotFoundError: [Errno 2] No such file or directory: '../data/LSUN_resized/'\n",
            "\r0it [00:00, ?it/s]\r  0%|          | 0/169001437 [00:00<?, ?it/s]\r  0%|          | 237568/169001437 [00:00<01:12, 2332112.58it/s]\r  0%|          | 745472/169001437 [00:00<01:00, 2777743.70it/s]\r  1%|          | 1351680/169001437 [00:00<00:50, 3312929.13it/s]\r  1%|          | 2105344/169001437 [00:00<00:42, 3973696.88it/s]\r  2%|▏         | 2990080/169001437 [00:00<00:34, 4753673.53it/s]\r  2%|▏         | 4096000/169001437 [00:00<00:28, 5734482.85it/s]\r  3%|▎         | 5406720/169001437 [00:00<00:23, 6898535.98it/s]\r  4%|▍         | 7004160/169001437 [00:00<00:19, 8302935.00it/s]\r  5%|▌         | 8937472/169001437 [00:01<00:16, 9991475.73it/s]\r  7%|▋         | 11264000/169001437 [00:01<00:13, 12048975.11it/s]\r  8%|▊         | 13901824/169001437 [00:01<00:10, 14380874.85it/s]\r 10%|▉         | 16867328/169001437 [00:01<00:08, 16965005.10it/s]\r 12%|█▏        | 20799488/169001437 [00:01<00:07, 20424780.16it/s]\r 15%|█▌        | 25665536/169001437 [00:01<00:05, 24728231.82it/s]\r 19%|█▊        | 31301632/169001437 [00:01<00:04, 29722584.16it/s]\r 23%|██▎       | 38363136/169001437 [00:01<00:03, 35947249.32it/s]\r 28%|██▊       | 47407104/169001437 [00:01<00:02, 43873367.14it/s]\r 34%|███▍      | 58089472/169001437 [00:01<00:02, 53280072.96it/s]\r 41%|████      | 69509120/169001437 [00:02<00:01, 63428730.27it/s]\r 48%|████▊     | 80896000/169001437 [00:02<00:01, 73128721.76it/s]\r 54%|█████▍    | 92102656/169001437 [00:02<00:00, 81552546.09it/s]\r 61%|██████▏   | 103669760/169001437 [00:02<00:00, 89468943.53it/s]\r 68%|██████▊   | 115056640/169001437 [00:02<00:00, 95574368.92it/s]\r 75%|███████▍  | 126394368/169001437 [00:02<00:00, 100272230.88it/s]\r 82%|████████▏ | 137764864/169001437 [00:02<00:00, 103945571.81it/s]\r 88%|████████▊ | 149102592/169001437 [00:02<00:00, 106604765.00it/s]\r 95%|█████████▍| 160522240/169001437 [00:02<00:00, 108725796.44it/s]\r169009152it [00:02, 58251579.52it/s]                                \n",
            "Traceback (most recent call last):\n",
            "  File \"test.py\", line 399, in <module>\n",
            "    transform=trn.Compose([trn.ToTensor(), trn.Normalize(mean, std)]),\n",
            "  File \"/usr/local/lib/python3.6/dist-packages/torchvision/datasets/folder.py\", line 229, in __init__\n",
            "    is_valid_file=is_valid_file)\n",
            "  File \"/usr/local/lib/python3.6/dist-packages/torchvision/datasets/folder.py\", line 108, in __init__\n",
            "    classes, class_to_idx = self._find_classes(self.root)\n",
            "  File \"/usr/local/lib/python3.6/dist-packages/torchvision/datasets/folder.py\", line 137, in _find_classes\n",
            "    classes = [d.name for d in os.scandir(dir) if d.is_dir()]\n",
            "FileNotFoundError: [Errno 2] No such file or directory: '../data/LSUN_resized/'\n"
          ],
          "name": "stderr"
        },
        {
          "output_type": "stream",
          "text": [
            "CPU times: user 11.7 ms, sys: 13.6 ms, total: 25.3 ms\n",
            "Wall time: 6min 6s\n"
          ],
          "name": "stdout"
        }
      ]
    },
    {
      "cell_type": "markdown",
      "metadata": {
        "id": "OXcPpsD0qt6M"
      },
      "source": [
        "## Outputs"
      ]
    },
    {
      "cell_type": "markdown",
      "metadata": {
        "id": "ynFTn3otsnYj"
      },
      "source": [
        "```\n",
        "-----------cifar10_wrn_pretrained energy score-----------------\n",
        "Namespace(T=1.0, droprate=0.3, layers=40, load='./snapshots', method_name='cifar10_wrn_pretrained', ngpu=1, noise=0, num_to_avg=10, out_as_pos=False, prefetch=2, score='energy', test_bs=200, use_xent=False, validate=False, widen_factor=2)\n",
        "Downloading https://www.cs.toronto.edu/~kriz/cifar-10-python.tar.gz to ../data/cifar-10-python.tar.gz\n",
        "Extracting ../data/cifar-10-python.tar.gz to ../data/\n",
        "Model restored! Epoch: 99\n",
        "Error Rate 5.16\n",
        "\n",
        "Using CIFAR-10 as typical data\n",
        "\n",
        "\n",
        "Error Detection\n",
        "\t\t\tcifar10_wrn_pretrained\n",
        "FPR95:\t\t\t25.17\n",
        "AUROC:\t\t\t93.36\n",
        "AUPR:\t\t\t45.73\n",
        "\n",
        "\n",
        "Texture Detection\n",
        "[-14.407909 -16.04899  -12.20411 ] [-5.02658   -6.5646405 -5.395067 ]\n",
        "\t\t\t\tcifar10_wrn_pretrained\n",
        "  FPR95 AUROC AUPR\n",
        "& 52.46 & 85.52 & 95.60\n",
        "& 0.63 & 0.24 & 0.14\n",
        "Downloading http://ufldl.stanford.edu/housenumbers/test_32x32.mat to ../data/test_32x32.mat\n",
        "\n",
        "\n",
        "SVHN Detection\n",
        "[-14.407909 -16.04899  -12.20411 ] [-4.9036674 -5.7974534 -7.4065423]\n",
        "\t\t\t\tcifar10_wrn_pretrained\n",
        "  FPR95 AUROC AUPR\n",
        "& 35.12 & 91.06 & 97.67\n",
        "& 1.03 & 0.26 & 0.11\n",
        "\n",
        "\n",
        "LSUN_C Detection\n",
        "[-14.407909 -16.04899  -12.20411 ] [-3.7656102 -5.3656783 -6.2041216]\n",
        "\t\t\t\tcifar10_wrn_pretrained\n",
        "  FPR95 AUROC AUPR\n",
        "& 8.07 & 98.38 & 99.66\n",
        "& 0.60 & 0.09 & 0.03\n",
        "||||||||done with cifar10_wrn_pretrained energy score above |||||||||||||||||||\n",
        "-----------cifar100_wrn_pretrained energy score-----------------\n",
        "Namespace(T=1.0, droprate=0.3, layers=40, load='./snapshots', method_name='cifar100_wrn_pretrained', ngpu=1, noise=0, num_to_avg=10, out_as_pos=False, prefetch=2, score='energy', test_bs=200, use_xent=False, validate=False, widen_factor=2)\n",
        "Downloading https://www.cs.toronto.edu/~kriz/cifar-100-python.tar.gz to ../data/cifar-100-python.tar.gz\n",
        "Extracting ../data/cifar-100-python.tar.gz to ../data/\n",
        "Model restored! Epoch: 99\n",
        "Error Rate 24.04\n",
        "\n",
        "Using CIFAR-100 as typical data\n",
        "\n",
        "\n",
        "Error Detection\n",
        "\t\t\tcifar100_wrn_pretrained\n",
        "FPR95:\t\t\t43.54\n",
        "AUROC:\t\t\t86.80\n",
        "AUPR:\t\t\t64.94\n",
        "\n",
        "\n",
        "Texture Detection\n",
        "[ -9.524346 -12.782997 -13.306398] [ -9.592745  -13.857715   -7.5673804]\n",
        "\t\t\t\tcifar100_wrn_pretrained\n",
        "  FPR95 AUROC AUPR\n",
        "& 80.11 & 76.01 & 93.52\n",
        "& 0.69 & 0.37 & 0.16\n",
        "Using downloaded and verified file: ../data/test_32x32.mat\n",
        "\n",
        "\n",
        "SVHN Detection\n",
        "[ -9.524346 -12.782997 -13.306398] [ -7.871019 -14.47611   -9.723523]\n",
        "\t\t\t\tcifar100_wrn_pretrained\n",
        "  FPR95 AUROC AUPR\n",
        "& 85.10 & 74.06 & 93.64\n",
        "& 0.71 & 0.22 & 0.09\n",
        "\n",
        "\n",
        "LSUN_C Detection\n",
        "[ -9.524346 -12.782997 -13.306398] [-7.1179266 -6.9004874 -8.405529 ]\n",
        "\t\t\t\tcifar100_wrn_pretrained\n",
        "  FPR95 AUROC AUPR\n",
        "& 35.83 & 93.42 & 98.59\n",
        "& 0.54 & 0.14 & 0.04\n",
        "||||||||done with cifar100_wrn_pretrained energy score above |||||||||||||||||||\n",
        "```"
      ]
    },
    {
      "cell_type": "markdown",
      "metadata": {
        "id": "RCB1DjH0qvSa"
      },
      "source": [
        "# Train models with energy method"
      ]
    },
    {
      "cell_type": "code",
      "metadata": {
        "colab": {
          "base_uri": "https://localhost:8080/"
        },
        "id": "mtUmhxWeqvex",
        "outputId": "818b41b3-2df6-4a1b-9428-d6434a36fac7"
      },
      "source": [
        "%%time\n",
        "%%bash\n",
        "cd energy_ood/CIFAR\n",
        "# run energy score training and testing for cifar10 WRN\n",
        "bash run.sh energy_ft 0\n",
        "\n",
        "# run energy score training and testing for cifar100 WRN\n",
        "bash run.sh energy_ft 1"
      ],
      "execution_count": 42,
      "outputs": [
        {
          "output_type": "stream",
          "text": [
            "---Training with dataset: cifar10---model used:wrn---seed: 1---score used:energy---------\n",
            "----------------23-------5--------------------\n",
            "{'batch_size': 128, 'calibration': False, 'dataset': 'cifar10', 'decay': 0.0005, 'droprate': 0.3, 'epochs': 10, 'layers': 40, 'learning_rate': 0.001, 'load': './snapshots/pretrained', 'm_in': -23.0, 'm_out': -5.0, 'model': 'wrn', 'momentum': 0.9, 'ngpu': 1, 'oe_batch_size': 256, 'prefetch': 4, 'save': './snapshots/energy_ft', 'score': 'energy', 'seed': 1, 'test': False, 'test_bs': 200, 'widen_factor': 2}\n",
            "Namespace(T=1.0, droprate=0.3, layers=40, load='./snapshots', method_name='cifar10_wrn_s1_energy_ft', ngpu=1, noise=0, num_to_avg=10, out_as_pos=False, prefetch=2, score='energy', test_bs=200, use_xent=False, validate=False, widen_factor=2)\n",
            "Files already downloaded and verified\n",
            "Model restored! Epoch: 9\n",
            "Error Rate 4.78\n",
            "\n",
            "Using CIFAR-10 as typical data\n",
            "\n",
            "\n",
            "Error Detection\n",
            "\t\t\tcifar10_wrn_s1_energy_ft\n",
            "FPR95:\t\t\t19.34\n",
            "AUROC:\t\t\t94.13\n",
            "AUPR:\t\t\t43.29\n",
            "||||||||done with training above energy_ft|||||||||||||||||||\n",
            "---Training with dataset: cifar100---model used:wrn---seed: 1---score used:energy---------\n",
            "----------------27-------5--------------------\n",
            "{'batch_size': 128, 'calibration': False, 'dataset': 'cifar100', 'decay': 0.0005, 'droprate': 0.3, 'epochs': 10, 'layers': 40, 'learning_rate': 0.001, 'load': './snapshots/pretrained', 'm_in': -27.0, 'm_out': -5.0, 'model': 'wrn', 'momentum': 0.9, 'ngpu': 1, 'oe_batch_size': 256, 'prefetch': 4, 'save': './snapshots/energy_ft', 'score': 'energy', 'seed': 1, 'test': False, 'test_bs': 200, 'widen_factor': 2}\n",
            "Namespace(T=1.0, droprate=0.3, layers=40, load='./snapshots', method_name='cifar100_wrn_s1_energy_ft', ngpu=1, noise=0, num_to_avg=10, out_as_pos=False, prefetch=2, score='energy', test_bs=200, use_xent=False, validate=False, widen_factor=2)\n",
            "Files already downloaded and verified\n",
            "Model restored! Epoch: 9\n",
            "Error Rate 24.30\n",
            "\n",
            "Using CIFAR-100 as typical data\n",
            "\n",
            "\n",
            "Error Detection\n",
            "\t\t\tcifar100_wrn_s1_energy_ft\n",
            "FPR95:\t\t\t41.72\n",
            "AUROC:\t\t\t86.64\n",
            "AUPR:\t\t\t63.34\n",
            "||||||||done with training above energy_ft|||||||||||||||||||\n"
          ],
          "name": "stdout"
        },
        {
          "output_type": "stream",
          "text": [
            "Traceback (most recent call last):\n",
            "  File \"train.py\", line 138, in <module>\n",
            "    \"../data/cifarpy\", train=True, transform=train_transform\n",
            "  File \"/usr/local/lib/python3.6/dist-packages/torchvision/datasets/cifar.py\", line 69, in __init__\n",
            "    ' You can use download=True to download it')\n",
            "RuntimeError: Dataset not found or corrupted. You can use download=True to download it\n",
            "Traceback (most recent call last):\n",
            "  File \"test.py\", line 348, in <module>\n",
            "    [trn.Resize(32), trn.CenterCrop(32), trn.ToTensor(), trn.Normalize(mean, std)]\n",
            "  File \"/usr/local/lib/python3.6/dist-packages/torchvision/datasets/folder.py\", line 229, in __init__\n",
            "    is_valid_file=is_valid_file)\n",
            "  File \"/usr/local/lib/python3.6/dist-packages/torchvision/datasets/folder.py\", line 108, in __init__\n",
            "    classes, class_to_idx = self._find_classes(self.root)\n",
            "  File \"/usr/local/lib/python3.6/dist-packages/torchvision/datasets/folder.py\", line 137, in _find_classes\n",
            "    classes = [d.name for d in os.scandir(dir) if d.is_dir()]\n",
            "FileNotFoundError: [Errno 2] No such file or directory: '../data/dtd/'\n",
            "Traceback (most recent call last):\n",
            "  File \"train.py\", line 144, in <module>\n",
            "    \"../data/cifarpy\", train=True, transform=train_transform\n",
            "  File \"/usr/local/lib/python3.6/dist-packages/torchvision/datasets/cifar.py\", line 69, in __init__\n",
            "    ' You can use download=True to download it')\n",
            "RuntimeError: Dataset not found or corrupted. You can use download=True to download it\n",
            "Traceback (most recent call last):\n",
            "  File \"test.py\", line 348, in <module>\n",
            "    [trn.Resize(32), trn.CenterCrop(32), trn.ToTensor(), trn.Normalize(mean, std)]\n",
            "  File \"/usr/local/lib/python3.6/dist-packages/torchvision/datasets/folder.py\", line 229, in __init__\n",
            "    is_valid_file=is_valid_file)\n",
            "  File \"/usr/local/lib/python3.6/dist-packages/torchvision/datasets/folder.py\", line 108, in __init__\n",
            "    classes, class_to_idx = self._find_classes(self.root)\n",
            "  File \"/usr/local/lib/python3.6/dist-packages/torchvision/datasets/folder.py\", line 137, in _find_classes\n",
            "    classes = [d.name for d in os.scandir(dir) if d.is_dir()]\n",
            "FileNotFoundError: [Errno 2] No such file or directory: '../data/dtd/'\n"
          ],
          "name": "stderr"
        },
        {
          "output_type": "stream",
          "text": [
            "CPU times: user 2.67 ms, sys: 6.68 ms, total: 9.35 ms\n",
            "Wall time: 21.3 s\n"
          ],
          "name": "stdout"
        }
      ]
    },
    {
      "cell_type": "markdown",
      "metadata": {
        "id": "cV1rZ29FqvnL"
      },
      "source": [
        "## Outputs"
      ]
    },
    {
      "cell_type": "markdown",
      "metadata": {
        "id": "VpGpnEcuspPT"
      },
      "source": [
        "```\n",
        "\n",
        "```"
      ]
    }
  ]
}
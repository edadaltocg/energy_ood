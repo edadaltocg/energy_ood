{
  "nbformat": 4,
  "nbformat_minor": 0,
  "metadata": {
    "language_info": {
      "codemirror_mode": {
        "name": "ipython",
        "version": 3
      },
      "file_extension": ".py",
      "mimetype": "text/x-python",
      "name": "python",
      "nbconvert_exporter": "python",
      "pygments_lexer": "ipython3",
      "version": 3
    },
    "orig_nbformat": 2,
    "colab": {
      "name": "run_energy_ood_in_colab.ipynb",
      "provenance": []
    }
  },
  "cells": [
    {
      "cell_type": "code",
      "metadata": {
        "id": "yFTpO37tqWeX"
      },
      "source": [
        "__dir__ = \"energy_ood\"\n",
        "__file__ = \"run_energy_ood_in_colab.ipynb\"\n",
        "__url__ = \"https://colab.research.google.com/github/edadaltocg/out-of-distribution-detection/blob/master/src/{}/{}\".format(__dir__, __file__)\n",
        "__url__"
      ],
      "execution_count": null,
      "outputs": []
    },
    {
      "cell_type": "markdown",
      "metadata": {
        "id": "Tylv9sOmqX6G"
      },
      "source": [
        "# Clone repo"
      ]
    },
    {
      "cell_type": "code",
      "metadata": {
        "id": "9BwRFyduqCFT"
      },
      "source": [
        "%%bash\n",
        "git clone http://github.com/edadaltocg/energy_ood\n",
        "cd energy_ood/"
      ],
      "execution_count": null,
      "outputs": []
    },
    {
      "cell_type": "markdown",
      "metadata": {
        "id": "0d9qep3NqdCO"
      },
      "source": [
        "# Download datasets"
      ]
    },
    {
      "cell_type": "code",
      "metadata": {
        "id": "uPkydTytqegZ"
      },
      "source": [
        "%%time\n",
        "%%capture\n",
        "%%bash\n",
        "# Describable Textures Dataset (DTD)\n",
        "wget https://www.robots.ox.ac.uk/~vgg/data/dtd/download/dtd-r1.0.1.tar.gz\n",
        "tar -xvzf dtd-r1.0.1.tar.gz\n",
        "# Chars74K\n",
        "wget http://www.ee.surrey.ac.uk/CVSSP/demos/chars74k/EnglishImg.tgz\n",
        "tar -xvzf EnglishImg.tgz\n",
        "# LSUN-C\n",
        "wget https://www.dropbox.com/s/fhtsw1m3qxlwj6h/LSUN.tar.gz\n",
        "tar -xvzf LSUN.tar.gz\n",
        "# LSUN-R\n",
        "wget https://www.dropbox.com/s/moqh2wh8696c3yl/LSUN_resize.tar.gz\n",
        "tar -xvzf LSUN_resize.tar.gz\n",
        "#iSUN\n",
        "wget https://www.dropbox.com/s/ssz7qxfqae0cca5/iSUN.tar.gz\n",
        "tar -xvzf iSUN.tar.gz"
      ],
      "execution_count": null,
      "outputs": []
    },
    {
      "cell_type": "markdown",
      "metadata": {
        "id": "lWJh06Bpqr-h"
      },
      "source": [
        "# Run tests in pre-trained models"
      ]
    },
    {
      "cell_type": "code",
      "metadata": {
        "id": "82NL9vAxqCFT"
      },
      "source": [
        "%%time\n",
        "%%bash\n",
        "cd energy_ood/CIFAR\n",
        "# run energy score testing for cifar10 WRN\n",
        "bash run.sh energy 0\n",
        "\n",
        "# run energy score testing for cifar100 WRN\n",
        "bash run.sh energy 1"
      ],
      "execution_count": null,
      "outputs": []
    },
    {
      "cell_type": "markdown",
      "metadata": {
        "id": "OXcPpsD0qt6M"
      },
      "source": [
        "## Outputs"
      ]
    },
    {
      "cell_type": "code",
      "metadata": {
        "id": "2cuzfdCIqu5u"
      },
      "source": [
        ""
      ],
      "execution_count": null,
      "outputs": []
    },
    {
      "cell_type": "markdown",
      "metadata": {
        "id": "RCB1DjH0qvSa"
      },
      "source": [
        "# Train models with energy method"
      ]
    },
    {
      "cell_type": "code",
      "metadata": {
        "id": "mtUmhxWeqvex"
      },
      "source": [
        "%%time\n",
        "%%bash\n",
        "cd energy_ood/CIFAR\n",
        "# run energy score training and testing for cifar10 WRN\n",
        "bash run.sh energy_ft 0\n",
        "\n",
        "# run energy score training and testing for cifar100 WRN\n",
        "bash run.sh energy_ft 1"
      ],
      "execution_count": null,
      "outputs": []
    },
    {
      "cell_type": "markdown",
      "metadata": {
        "id": "cV1rZ29FqvnL"
      },
      "source": [
        "## Outputs"
      ]
    },
    {
      "cell_type": "code",
      "metadata": {
        "id": "oqLtrv-vqvt5"
      },
      "source": [
        ""
      ],
      "execution_count": null,
      "outputs": []
    }
  ]
}